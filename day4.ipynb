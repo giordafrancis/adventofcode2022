{
 "cells": [
  {
   "cell_type": "code",
   "execution_count": 13,
   "id": "48072359-fe99-4a2b-80d5-043fa8fe86fa",
   "metadata": {},
   "outputs": [
    {
     "name": "stdout",
     "output_type": "stream",
     "text": [
      "p1-> 582\n",
      "p2-> 893\n"
     ]
    }
   ],
   "source": [
    "\"\"\"https://adventofcode.com/2022/day/4\"\"\"\n",
    "\n",
    "from typing import Iterable\n",
    "\n",
    "\n",
    "test = \"\"\"2-4,6-8\n",
    "2-3,4-5\n",
    "5-7,7-9\n",
    "2-8,3-7\n",
    "6-6,4-6\n",
    "2-6,4-8\"\"\"\n",
    "\n",
    "SECTION = tuple[set[int]]\n",
    "\n",
    "def parse_pairs(line:str)-> SECTION:\n",
    "    sections = list()\n",
    "    for s in line.split(\",\"):\n",
    "        low, high = s.split(\"-\")\n",
    "        sections.append(set(range(int(low),int(high)+1)))\n",
    "    return tuple(sections)\n",
    "\n",
    "def _is_fully_contained(line:str)->bool:\n",
    "    \"\"\"\n",
    "    Flag that checks if one sections is fully covered\n",
    "    by another\n",
    "    left > {1,2,3,4}\n",
    "    right > {2,3}\n",
    "    union > {1,2,3,4} -> same as left \n",
    "    if same left or right returns bool\n",
    "    \"\"\"\n",
    "    left, right = parse_pairs(line)\n",
    "    union = left.union(right)\n",
    "    return union == left or union == right\n",
    "\n",
    "def _is_fully_contained2(line:str)->bool:\n",
    "    \"\"\"\n",
    "    Flag that checks if one sections overlaps any of\n",
    "    the other\n",
    "    left > {1,2,3,4}\n",
    "    right > {4,5}\n",
    "    intersection > {4} -> evauates to True when using bol\n",
    "    \"\"\"\n",
    "    left, right = parse_pairs(line)\n",
    "    intersection = left.intersection(right)\n",
    "    return bool(intersection)\n",
    "\n",
    "def is_fully_contained(line:str, part1=True)->bool:\n",
    "    \"\"\"\n",
    "    handles part1 vs part2\n",
    "    \"\"\"\n",
    "    if part1:\n",
    "        return _is_fully_contained(line=line)\n",
    "    return _is_fully_contained2(line)\n",
    "\n",
    "def all_contained(inputs:str, part1=True)->Iterable[int]:\n",
    "    for line in inputs.splitlines():\n",
    "        yield is_fully_contained(line, part1=part1)\n",
    "        \n",
    "assert sum(all_contained(inputs=test)) == 2\n",
    "assert sum(all_contained(inputs=test,  part1=False)) == 4\n",
    "\n",
    "with open(\"puzzle/day4.txt\") as file:\n",
    "    inputs = file.read()\n",
    "    p1 = sum(all_contained(inputs=inputs))\n",
    "    p2 = sum(all_contained(inputs=inputs, part1=False))\n",
    "    print(\"p1->\", p1)\n",
    "    print(\"p2->\", p2)    "
   ]
  }
 ],
 "metadata": {
  "kernelspec": {
   "display_name": "Python 3 (ipykernel)",
   "language": "python",
   "name": "python3"
  },
  "language_info": {
   "codemirror_mode": {
    "name": "ipython",
    "version": 3
   },
   "file_extension": ".py",
   "mimetype": "text/x-python",
   "name": "python",
   "nbconvert_exporter": "python",
   "pygments_lexer": "ipython3",
   "version": "3.10.4"
  }
 },
 "nbformat": 4,
 "nbformat_minor": 5
}
