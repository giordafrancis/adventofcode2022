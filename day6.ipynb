{
 "cells": [
  {
   "cell_type": "code",
   "execution_count": 90,
   "id": "76e743c1-3f27-4762-a9c7-58015967a595",
   "metadata": {},
   "outputs": [
    {
     "name": "stdout",
     "output_type": "stream",
     "text": [
      "p1-> 1855\n",
      "p2-> 3256\n"
     ]
    }
   ],
   "source": [
    "\"\"\"https://adventofcode.com/2022/day/6\"\"\"\n",
    "\n",
    "from collections import deque, Counter\n",
    "\n",
    "\n",
    "\n",
    "def first_start_packet(inputs:str, n=4)->str:\n",
    "    \"\"\"\n",
    "    Detects first unique char packet, returns idx after\n",
    "    \"\"\"\n",
    "    buffer = deque(maxlen=n) # buffer size\n",
    "    for i, char in enumerate(inputs.strip(), 0):\n",
    "        buffer.append(char)\n",
    "#         print(buffer)\n",
    "        if len(buffer) < n: # buffer not full\n",
    "            continue\n",
    "        else:\n",
    "            counter = Counter(buffer) # get unique counts\n",
    "#             print(\"A\",1, buffer, counter)\n",
    "            if all(val == 1 for val in counter.values()): # all unique\n",
    "#                 print('B', buffer)\n",
    "                return i+1 # exit \n",
    "\n",
    "\n",
    "test1 = [(\"bvwbjplbgvbhsrlpgdmjqwftvncz\",5),\n",
    "         (\"nppdvjthqldpwncqszvftbrmjlhg\",6),\n",
    "         (\"nznrnfrfntjfmvfwmzdfjlvtqnbhcprsg\", 10),\n",
    "         (\"zcfzfwzzqfrljwzlrfnpqdbhtmscgvjw\",11)]\n",
    "\n",
    "test2 = [(\"bvwbjplbgvbhsrlpgdmjqwftvncz\",23),\n",
    "         (\"nppdvjthqldpwncqszvftbrmjlhg\",23),\n",
    "         (\"nznrnfrfntjfmvfwmzdfjlvtqnbhcprsg\", 29),\n",
    "         (\"zcfzfwzzqfrljwzlrfnpqdbhtmscgvjw\",26)]\n",
    "\n",
    "\n",
    "assert all(i == first_start_packet(t, n=4)  for t, i in test1)\n",
    "assert all(i == first_start_packet(t, n=14)  for t, i in test2)\n",
    "\n",
    "\n",
    "with open(\"puzzle/day6.txt\") as f:\n",
    "    puzzle = f.read().strip()\n",
    "    p1 = first_start_packet(inputs=puzzle, n=4)\n",
    "    p2 = first_start_packet(inputs=puzzle, n=14)\n",
    "    print(\"p1->\", p1)\n",
    "    print(\"p2->\", p2)"
   ]
  },
  {
   "cell_type": "code",
   "execution_count": null,
   "id": "1e87c10c-206a-4e30-8095-aab8f70c8743",
   "metadata": {},
   "outputs": [],
   "source": []
  }
 ],
 "metadata": {
  "kernelspec": {
   "display_name": "Python 3 (ipykernel)",
   "language": "python",
   "name": "python3"
  },
  "language_info": {
   "codemirror_mode": {
    "name": "ipython",
    "version": 3
   },
   "file_extension": ".py",
   "mimetype": "text/x-python",
   "name": "python",
   "nbconvert_exporter": "python",
   "pygments_lexer": "ipython3",
   "version": "3.10.4"
  }
 },
 "nbformat": 4,
 "nbformat_minor": 5
}
